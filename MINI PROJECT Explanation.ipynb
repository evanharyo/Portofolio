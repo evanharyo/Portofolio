{
 "cells": [
  {
   "cell_type": "markdown",
   "id": "331958da",
   "metadata": {},
   "source": [
    "We begin the mini project with creating tables for every entity that we will have.\n",
    "\n",
    "The process of creating dummy data begins by creating the “many___” function to be able to enter multiple inputs in the database table at one time. Then the \"many___\" data is entered into the database that we created with the \"execute many\" syntax so that the inputted data can be in large quantities at one time. After that, we created the “insert___” function which aims to simplify the process of entering data in the database when running the loop in the next step.\n",
    "\n",
    "In the online shopping application database simulation that we created, the scenario we are trying to build is where an application can be used by three parties, namely the customer, the seller, and the company that owns the application, which is usually a data analyst. Looping python in the above process is a process where a database can receive a lot of customer and seller data within a certain period of time until a data analyst comes to look for insight.\n",
    "\n",
    "The process starts with printing a product table, as of course when someone opens an online shopping application, the first thing that appears is the product. After that, an option will appear to choose your current position, namely whether you are a seller, customer, or data analyst. If you choose a customer, you are asked to enter your personal data and then enter what product you want to buy. In addition, you will also be asked to choose a payment method to process the delivery of your goods. The data that you have inputted will be automatically entered in the table in the database that was created earlier. Likewise if you choose a position as a seller. You will be asked to fill in various data, ranging from personal data to data on the product you want to sell which then all data will be entered in a table in the database. This process will keep repeating with while looping as of course an online shopping application can continuously receive new data every time. Looping will stop when a data analyst comes to the application and enters the company code, here the table containing the previously inputted data will be printed and then further analysis of the data will be carried out in the DB browser because the results are easier and more efficient. clearly understandable."
   ]
  }
 ],
 "metadata": {
  "kernelspec": {
   "display_name": "Python 3",
   "language": "python",
   "name": "python3"
  },
  "language_info": {
   "codemirror_mode": {
    "name": "ipython",
    "version": 3
   },
   "file_extension": ".py",
   "mimetype": "text/x-python",
   "name": "python",
   "nbconvert_exporter": "python",
   "pygments_lexer": "ipython3",
   "version": "3.8.8"
  }
 },
 "nbformat": 4,
 "nbformat_minor": 5
}
